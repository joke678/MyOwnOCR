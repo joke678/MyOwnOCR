{
 "cells": [
  {
   "cell_type": "code",
   "execution_count": 2,
   "metadata": {
    "colab": {
     "base_uri": "https://localhost:8080/"
    },
    "id": "YIsSOBLfYyt0",
    "outputId": "46ea60f6-0ffc-43c5-a6a8-538bd7373778"
   },
   "outputs": [],
   "source": [
    "#Importing required libraries.\n",
    "import numpy as np\n",
    "import matplotlib.pyplot as plt\n",
    "import cv2\n",
    "import os\n",
    "#from tensorflow.keras.layers import Conv2D,MaxPooling2D,Activation,Conv2DTranspose,Input,Add,UpSampling2D,Dropout,concatenate\n",
    "from keras.layers import *\n",
    "from keras.models import Model\n",
    "from keras.optimizers import Adam\n",
    "import random\n",
    "import math\n",
    "\n",
    "image_list=os.listdir('./Dataset/img/')\n",
    "image_list=[filename.split(\".\")[0]for filename in image_list]\n",
    "\n",
    "def visualize(img,seg_img):\n",
    "    \"\"\"\n",
    "    Visualizes image\n",
    "    \"\"\"\n",
    "    plt.figure(figsize=(20,20))\n",
    "    plt.subplot(1,2,1)\n",
    "    plt.imshow(img)\n",
    "    plt.title('Image')\n",
    "    plt.subplot(1,2,2)\n",
    "    plt.imshow(seg_img,cmap='gray')\n",
    "    plt.title('Segmented Image')\n",
    "    plt.show()\n",
    "\n",
    "def roundup(x):\n",
    "    return int(math.ceil(x / 10.0)) * 10\n",
    "    \n",
    "def get_segmented_img(img,n_classes):\n",
    "    \"\"\"\n",
    "    Loads in the segmented image and create suitable segmentation label.\n",
    "    \"\"\"\n",
    "    seg_labels=np.zeros((512,512,1))\n",
    "    img=cv2.resize(img,(512,512))\n",
    "    img=img[:,:,0]\n",
    "    cl_list=[0,24]\n",
    "\n",
    "    \n",
    "    seg_labels[:,:,0]=(img!=0).astype(int)\n",
    "\n",
    "\n",
    "    return seg_labels\n",
    "def pad_img(img):\n",
    "\told_h,old_w=img.shape[0],img.shape[1]\n",
    "\n",
    "\t#Pad the height.\n",
    "\n",
    "\t#If height is less than 512 then pad to 512\n",
    "\tif old_h<512:\n",
    "\t\tto_pad=np.ones((512-old_h,old_w))*255\n",
    "\t\timg=np.concatenate((img,to_pad))\n",
    "\t\tnew_height=512\n",
    "\telse:\n",
    "\t#If height >512 then pad to nearest 10.\n",
    "\t\tto_pad=np.ones((roundup(old_h)-old_h,old_w))*255\n",
    "\t\timg=np.concatenate((img,to_pad))\n",
    "\t\tnew_height=roundup(old_h)\n",
    "\n",
    "\t#Pad the width.\n",
    "\tif old_w<512:\n",
    "\t\tto_pad=np.ones((new_height,512-old_w))*255\n",
    "\t\timg=np.concatenate((img,to_pad),axis=1)\n",
    "\t\tnew_width=512\n",
    "\telse:\n",
    "\t\tto_pad=np.ones((new_height,roundup(old_w)-old_w))*255\n",
    "\t\timg=np.concatenate((img,to_pad),axis=1)\n",
    "\t\tnew_width=roundup(old_w)-old_w\n",
    "\treturn img\n",
    "\n",
    "\n",
    "def pad_seg(img):\n",
    "\told_h,old_w=img.shape[0],img.shape[1]\n",
    "\n",
    "\t#Pad the height.\n",
    "\n",
    "\t#If height is less than 512 then pad to 512\n",
    "\tif old_h<512:\n",
    "\t\tto_pad=np.zeros((512-old_h,old_w))\n",
    "\t\timg=np.concatenate((img,to_pad))\n",
    "\t\tnew_height=512\n",
    "\telse:\n",
    "\t#If height >512 then pad to nearest 10.\n",
    "\t\tto_pad=np.zeros((roundup(old_h)-old_h,old_w))\n",
    "\t\timg=np.concatenate((img,to_pad))\n",
    "\t\tnew_height=roundup(old_h)\n",
    "\n",
    "\t#Pad the width.\n",
    "\tif old_w<512:\n",
    "\t\tto_pad=np.zeros((new_height,512-old_w))\n",
    "\t\timg=np.concatenate((img,to_pad),axis=1)\n",
    "\t\tnew_width=512\n",
    "\telse:\n",
    "\t\tto_pad=np.zeros((new_height,roundup(old_w)-old_w))\n",
    "\t\timg=np.concatenate((img,to_pad),axis=1)\n",
    "\t\tnew_width=roundup(old_w)-old_w\n",
    "\treturn img\n",
    "\n",
    "\n",
    "\n",
    "def batch_generator(filelist,n_classes,batch_size):\n",
    "    while True:\n",
    "        X=[]\n",
    "        Y=[]\n",
    "        for i in range(batch_size):\n",
    "            fn=random.choice(filelist)\n",
    "            img=cv2.imread(f'./Dataset/img/{fn}.jpg',0)\n",
    "            img=pad_img(img)\n",
    "            ret,img=cv2.threshold(img,150,255,cv2.THRESH_BINARY_INV)\n",
    "\n",
    "\n",
    "            img=cv2.resize(img,(512,512))\n",
    "            img=np.expand_dims(img,axis=-1)\n",
    "            #img = np.stack((img,)*3, axis=-1)\n",
    "            img=img/255\n",
    "\n",
    "            seg=cv2.imread(f'./Dataset/mask/{fn}_mask.png',0)\n",
    "            seg=pad_seg(seg)\n",
    "            seg=cv2.resize(seg,(512,512))\n",
    "            seg = np.stack((seg,)*3, axis=-1)\n",
    "            seg=get_segmented_img(seg,n_classes)\n",
    "\n",
    "            X.append(img)\n",
    "            Y.append(seg)\n",
    "        yield np.array(X),np.array(Y)\n",
    "\n",
    "\n",
    "    \n",
    "\n",
    "\n"
   ]
  },
  {
   "cell_type": "code",
   "execution_count": 3,
   "metadata": {
    "id": "nnpYHTJWYyuI"
   },
   "outputs": [],
   "source": [
    "random.shuffle(image_list)\n",
    "file_train=image_list[0:int(0.75*len(image_list))]\n",
    "file_test=image_list[int(0.75*len(image_list)):]\n",
    "\n"
   ]
  },
  {
   "cell_type": "code",
   "execution_count": 4,
   "metadata": {
    "colab": {
     "base_uri": "https://localhost:8080/"
    },
    "id": "vAAxwqILKDrx",
    "outputId": "aea33d32-e590-4158-ed7c-a9ec74cb6878"
   },
   "outputs": [
    {
     "name": "stdout",
     "output_type": "stream",
     "text": [
      "Model: \"model\"\n",
      "__________________________________________________________________________________________________\n",
      " Layer (type)                   Output Shape         Param #     Connected to                     \n",
      "==================================================================================================\n",
      " input_1 (InputLayer)           [(None, 512, 512, 1  0           []                               \n",
      "                                )]                                                                \n",
      "                                                                                                  \n",
      " conv2d (Conv2D)                (None, 512, 512, 64  640         ['input_1[0][0]']                \n",
      "                                )                                                                 \n",
      "                                                                                                  \n",
      " conv2d_1 (Conv2D)              (None, 512, 512, 64  36928       ['conv2d[0][0]']                 \n",
      "                                )                                                                 \n",
      "                                                                                                  \n",
      " max_pooling2d (MaxPooling2D)   (None, 256, 256, 64  0           ['conv2d_1[0][0]']               \n",
      "                                )                                                                 \n",
      "                                                                                                  \n",
      " conv2d_2 (Conv2D)              (None, 256, 256, 12  73856       ['max_pooling2d[0][0]']          \n",
      "                                8)                                                                \n",
      "                                                                                                  \n",
      " conv2d_3 (Conv2D)              (None, 256, 256, 12  147584      ['conv2d_2[0][0]']               \n",
      "                                8)                                                                \n",
      "                                                                                                  \n",
      " max_pooling2d_1 (MaxPooling2D)  (None, 128, 128, 12  0          ['conv2d_3[0][0]']               \n",
      "                                8)                                                                \n",
      "                                                                                                  \n",
      " conv2d_4 (Conv2D)              (None, 128, 128, 25  295168      ['max_pooling2d_1[0][0]']        \n",
      "                                6)                                                                \n",
      "                                                                                                  \n",
      " conv2d_5 (Conv2D)              (None, 128, 128, 25  590080      ['conv2d_4[0][0]']               \n",
      "                                6)                                                                \n",
      "                                                                                                  \n",
      " max_pooling2d_2 (MaxPooling2D)  (None, 64, 64, 256)  0          ['conv2d_5[0][0]']               \n",
      "                                                                                                  \n",
      " conv2d_6 (Conv2D)              (None, 64, 64, 512)  1180160     ['max_pooling2d_2[0][0]']        \n",
      "                                                                                                  \n",
      " conv2d_7 (Conv2D)              (None, 64, 64, 512)  2359808     ['conv2d_6[0][0]']               \n",
      "                                                                                                  \n",
      " dropout (Dropout)              (None, 64, 64, 512)  0           ['conv2d_7[0][0]']               \n",
      "                                                                                                  \n",
      " max_pooling2d_3 (MaxPooling2D)  (None, 32, 32, 512)  0          ['dropout[0][0]']                \n",
      "                                                                                                  \n",
      " conv2d_8 (Conv2D)              (None, 32, 32, 1024  4719616     ['max_pooling2d_3[0][0]']        \n",
      "                                )                                                                 \n",
      "                                                                                                  \n",
      " conv2d_9 (Conv2D)              (None, 32, 32, 1024  9438208     ['conv2d_8[0][0]']               \n",
      "                                )                                                                 \n",
      "                                                                                                  \n",
      " dropout_1 (Dropout)            (None, 32, 32, 1024  0           ['conv2d_9[0][0]']               \n",
      "                                )                                                                 \n",
      "                                                                                                  \n",
      " up_sampling2d (UpSampling2D)   (None, 64, 64, 1024  0           ['dropout_1[0][0]']              \n",
      "                                )                                                                 \n",
      "                                                                                                  \n",
      " conv2d_10 (Conv2D)             (None, 64, 64, 512)  2097664     ['up_sampling2d[0][0]']          \n",
      "                                                                                                  \n",
      " concatenate (Concatenate)      (None, 64, 64, 1024  0           ['dropout[0][0]',                \n",
      "                                )                                 'conv2d_10[0][0]']              \n",
      "                                                                                                  \n",
      " conv2d_11 (Conv2D)             (None, 64, 64, 512)  4719104     ['concatenate[0][0]']            \n",
      "                                                                                                  \n",
      " conv2d_12 (Conv2D)             (None, 64, 64, 512)  2359808     ['conv2d_11[0][0]']              \n",
      "                                                                                                  \n",
      " up_sampling2d_1 (UpSampling2D)  (None, 128, 128, 51  0          ['conv2d_12[0][0]']              \n",
      "                                2)                                                                \n",
      "                                                                                                  \n",
      " conv2d_13 (Conv2D)             (None, 128, 128, 25  524544      ['up_sampling2d_1[0][0]']        \n",
      "                                6)                                                                \n",
      "                                                                                                  \n",
      " concatenate_1 (Concatenate)    (None, 128, 128, 51  0           ['conv2d_5[0][0]',               \n",
      "                                2)                                'conv2d_13[0][0]']              \n",
      "                                                                                                  \n",
      " conv2d_14 (Conv2D)             (None, 128, 128, 25  1179904     ['concatenate_1[0][0]']          \n",
      "                                6)                                                                \n",
      "                                                                                                  \n",
      " conv2d_15 (Conv2D)             (None, 128, 128, 25  590080      ['conv2d_14[0][0]']              \n",
      "                                6)                                                                \n",
      "                                                                                                  \n",
      " up_sampling2d_2 (UpSampling2D)  (None, 256, 256, 25  0          ['conv2d_15[0][0]']              \n",
      "                                6)                                                                \n",
      "                                                                                                  \n",
      " conv2d_16 (Conv2D)             (None, 256, 256, 12  131200      ['up_sampling2d_2[0][0]']        \n",
      "                                8)                                                                \n",
      "                                                                                                  \n",
      " concatenate_2 (Concatenate)    (None, 256, 256, 25  0           ['conv2d_3[0][0]',               \n"
     ]
    },
    {
     "name": "stdout",
     "output_type": "stream",
     "text": [
      "                                6)                                'conv2d_16[0][0]']              \n",
      "                                                                                                  \n",
      " conv2d_17 (Conv2D)             (None, 256, 256, 12  295040      ['concatenate_2[0][0]']          \n",
      "                                8)                                                                \n",
      "                                                                                                  \n",
      " conv2d_18 (Conv2D)             (None, 256, 256, 12  147584      ['conv2d_17[0][0]']              \n",
      "                                8)                                                                \n",
      "                                                                                                  \n",
      " up_sampling2d_3 (UpSampling2D)  (None, 512, 512, 12  0          ['conv2d_18[0][0]']              \n",
      "                                8)                                                                \n",
      "                                                                                                  \n",
      " conv2d_19 (Conv2D)             (None, 512, 512, 64  32832       ['up_sampling2d_3[0][0]']        \n",
      "                                )                                                                 \n",
      "                                                                                                  \n",
      " concatenate_3 (Concatenate)    (None, 512, 512, 12  0           ['conv2d_1[0][0]',               \n",
      "                                8)                                'conv2d_19[0][0]']              \n",
      "                                                                                                  \n",
      " conv2d_20 (Conv2D)             (None, 512, 512, 64  73792       ['concatenate_3[0][0]']          \n",
      "                                )                                                                 \n",
      "                                                                                                  \n",
      " conv2d_21 (Conv2D)             (None, 512, 512, 64  36928       ['conv2d_20[0][0]']              \n",
      "                                )                                                                 \n",
      "                                                                                                  \n",
      " conv2d_22 (Conv2D)             (None, 512, 512, 2)  1154        ['conv2d_21[0][0]']              \n",
      "                                                                                                  \n",
      " conv2d_23 (Conv2D)             (None, 512, 512, 1)  3           ['conv2d_22[0][0]']              \n",
      "                                                                                                  \n",
      "==================================================================================================\n",
      "Total params: 31,031,685\n",
      "Trainable params: 31,031,685\n",
      "Non-trainable params: 0\n",
      "__________________________________________________________________________________________________\n"
     ]
    },
    {
     "name": "stderr",
     "output_type": "stream",
     "text": [
      "C:\\Users\\h.decure\\Anaconda3\\lib\\site-packages\\keras\\optimizers\\optimizer_v2\\adam.py:110: UserWarning: The `lr` argument is deprecated, use `learning_rate` instead.\n",
      "  super(Adam, self).__init__(name, **kwargs)\n"
     ]
    }
   ],
   "source": [
    "def unet(pretrained_weights = None,input_size = (512,512,1)):\n",
    "    inputs = Input(input_size)\n",
    "    conv1 = Conv2D(64, 3, activation = 'relu', padding = 'same', kernel_initializer = 'he_normal')(inputs)\n",
    "    conv1 = Conv2D(64, 3, activation = 'relu', padding = 'same', kernel_initializer = 'he_normal')(conv1)\n",
    "    pool1 = MaxPooling2D(pool_size=(2, 2))(conv1)\n",
    "    conv2 = Conv2D(128, 3, activation = 'relu', padding = 'same', kernel_initializer = 'he_normal')(pool1)\n",
    "    conv2 = Conv2D(128, 3, activation = 'relu', padding = 'same', kernel_initializer = 'he_normal')(conv2)\n",
    "    pool2 = MaxPooling2D(pool_size=(2, 2))(conv2)\n",
    "    conv3 = Conv2D(256, 3, activation = 'relu', padding = 'same', kernel_initializer = 'he_normal')(pool2)\n",
    "    conv3 = Conv2D(256, 3, activation = 'relu', padding = 'same', kernel_initializer = 'he_normal')(conv3)\n",
    "    pool3 = MaxPooling2D(pool_size=(2, 2))(conv3)\n",
    "    conv4 = Conv2D(512, 3, activation = 'relu', padding = 'same', kernel_initializer = 'he_normal')(pool3)\n",
    "    conv4 = Conv2D(512, 3, activation = 'relu', padding = 'same', kernel_initializer = 'he_normal')(conv4)\n",
    "    drop4 = Dropout(0.5)(conv4)\n",
    "    pool4 = MaxPooling2D(pool_size=(2, 2))(drop4)\n",
    "\n",
    "    conv5 = Conv2D(1024, 3, activation = 'relu', padding = 'same', kernel_initializer = 'he_normal')(pool4)\n",
    "    conv5 = Conv2D(1024, 3, activation = 'relu', padding = 'same', kernel_initializer = 'he_normal')(conv5)\n",
    "    drop5 = Dropout(0.5)(conv5)\n",
    "\n",
    "    up6 = Conv2D(512, 2, activation = 'relu', padding = 'same', kernel_initializer = 'he_normal')(UpSampling2D(size = (2,2))(drop5))\n",
    "    merge6 = concatenate([drop4,up6], axis = 3)\n",
    "    conv6 = Conv2D(512, 3, activation = 'relu', padding = 'same', kernel_initializer = 'he_normal')(merge6)\n",
    "    conv6 = Conv2D(512, 3, activation = 'relu', padding = 'same', kernel_initializer = 'he_normal')(conv6)\n",
    "\n",
    "    up7 = Conv2D(256, 2, activation = 'relu', padding = 'same', kernel_initializer = 'he_normal')(UpSampling2D(size = (2,2))(conv6))\n",
    "    merge7 = concatenate([conv3,up7], axis = 3)\n",
    "    conv7 = Conv2D(256, 3, activation = 'relu', padding = 'same', kernel_initializer = 'he_normal')(merge7)\n",
    "    conv7 = Conv2D(256, 3, activation = 'relu', padding = 'same', kernel_initializer = 'he_normal')(conv7)\n",
    "\n",
    "    up8 = Conv2D(128, 2, activation = 'relu', padding = 'same', kernel_initializer = 'he_normal')(UpSampling2D(size = (2,2))(conv7))\n",
    "    merge8 = concatenate([conv2,up8], axis = 3)\n",
    "    conv8 = Conv2D(128, 3, activation = 'relu', padding = 'same', kernel_initializer = 'he_normal')(merge8)\n",
    "    conv8 = Conv2D(128, 3, activation = 'relu', padding = 'same', kernel_initializer = 'he_normal')(conv8)\n",
    "\n",
    "    up9 = Conv2D(64, 2, activation = 'relu', padding = 'same', kernel_initializer = 'he_normal')(UpSampling2D(size = (2,2))(conv8))\n",
    "    merge9 = concatenate([conv1,up9], axis = 3)\n",
    "    conv9 = Conv2D(64, 3, activation = 'relu', padding = 'same', kernel_initializer = 'he_normal')(merge9)\n",
    "    conv9 = Conv2D(64, 3, activation = 'relu', padding = 'same', kernel_initializer = 'he_normal')(conv9)\n",
    "    conv9 = Conv2D(2, 3, activation = 'relu', padding = 'same', kernel_initializer = 'he_normal')(conv9)\n",
    "    conv10 = Conv2D(1, 1, activation = 'sigmoid')(conv9)\n",
    "\n",
    "    model = Model(inputs,conv10)\n",
    "\n",
    "    model.compile(optimizer = Adam(lr = 1e-4), loss = 'binary_crossentropy', metrics = ['accuracy'])\n",
    "    \n",
    "    #model.summary()\n",
    "\n",
    "    if(pretrained_weights):\n",
    "    \tmodel.load_weights(pretrained_weights)\n",
    "\n",
    "    return model\n",
    "\n",
    "model=unet()\n",
    "model.summary()\n",
    "\n"
   ]
  },
  {
   "cell_type": "code",
   "execution_count": 5,
   "metadata": {
    "colab": {
     "base_uri": "https://localhost:8080/",
     "height": 35
    },
    "id": "68fb0gZpQX29",
    "outputId": "987c34ed-1b32-4e23-8588-9f06c8551c86"
   },
   "outputs": [
    {
     "data": {
      "text/plain": [
       "'lineO18'"
      ]
     },
     "execution_count": 5,
     "metadata": {},
     "output_type": "execute_result"
    }
   ],
   "source": [
    "image_list[0]"
   ]
  },
  {
   "cell_type": "code",
   "execution_count": 6,
   "metadata": {
    "colab": {
     "base_uri": "https://localhost:8080/",
     "height": 83
    },
    "id": "bAzZUMoRYyt9",
    "outputId": "270b5833-23c4-4328-ce9b-13e3179c6045"
   },
   "outputs": [
    {
     "data": {
      "image/png": "[encoded data removed]",
      "text/plain": [
       "<Figure size 1440x1440 with 2 Axes>"
      ]
     },
     "metadata": {
      "needs_background": "light"
     },
     "output_type": "display_data"
    }
   ],
   "source": [
    "img=cv2.imread('./Dataset/img/'+image_list[0]+'.jpg',1)\n",
    "seg=cv2.imread('./Dataset/mask/'+image_list[0]+'_mask.png',1)\n",
    "\n",
    "visualize(img,seg)\n"
   ]
  },
  {
   "cell_type": "code",
   "execution_count": 7,
   "metadata": {
    "colab": {
     "base_uri": "https://localhost:8080/",
     "height": 286
    },
    "id": "PGmooTzpDTYz",
    "outputId": "8016afc2-b8ad-432d-d25a-3e110ddb2720"
   },
   "outputs": [
    {
     "data": {
      "text/plain": [
       "<matplotlib.image.AxesImage at 0x27e0e2b93a0>"
      ]
     },
     "execution_count": 7,
     "metadata": {},
     "output_type": "execute_result"
    },
    {
     "data": {
      "image/png": "[encoded data removed]",
      "text/plain": [
       "<Figure size 432x288 with 1 Axes>"
      ]
     },
     "metadata": {
      "needs_background": "light"
     },
     "output_type": "display_data"
    }
   ],
   "source": [
    "img,seg=next(batch_generator(file_test,2,1))\n",
    "plt.imshow(np.squeeze(seg[:,:,:,0],axis=0),cmap='gray')\n"
   ]
  },
  {
   "cell_type": "code",
   "execution_count": 8,
   "metadata": {
    "colab": {
     "base_uri": "https://localhost:8080/"
    },
    "id": "UK2wl_KFiGeq",
    "outputId": "c1c5bfd4-5397-4be1-8a0b-bec792c13517"
   },
   "outputs": [
    {
     "name": "stdout",
     "output_type": "stream",
     "text": [
      "WARNING:tensorflow:`period` argument is deprecated. Please use `save_freq` to specify the frequency in number of batches seen.\n",
      "Epoch 1/5\n"
     ]
    },
    {
     "name": "stderr",
     "output_type": "stream",
     "text": [
      "C:\\Users\\h.decure\\AppData\\Local\\Temp\\ipykernel_19632\\531898499.py:4: UserWarning: `Model.fit_generator` is deprecated and will be removed in a future version. Please use `Model.fit`, which supports generators.\n",
      "  model.fit_generator(batch_generator(file_train,2,2),epochs=5,steps_per_epoch=1000,validation_data=batch_generator(file_test,2,2),\n"
     ]
    },
    {
     "name": "stdout",
     "output_type": "stream",
     "text": [
      "1000/1000 [==============================] - 495s 480ms/step - loss: 0.6553 - accuracy: 0.9966 - val_loss: 0.6305 - val_accuracy: 0.9970\n",
      "Epoch 2/5\n",
      "1000/1000 [==============================] - 471s 471ms/step - loss: 0.6092 - accuracy: 0.9973 - val_loss: 0.5869 - val_accuracy: 0.9973\n",
      "Epoch 3/5\n",
      "1000/1000 [==============================] - 583s 584ms/step - loss: 0.5667 - accuracy: 0.9976 - val_loss: 0.5452 - val_accuracy: 0.9973\n",
      "Epoch 4/5\n",
      "1000/1000 [==============================] - 629s 629ms/step - loss: 0.5270 - accuracy: 0.9977 - val_loss: 0.5068 - val_accuracy: 0.9975\n",
      "Epoch 5/5\n",
      "1000/1000 [==============================] - 631s 631ms/step - loss: 0.4896 - accuracy: 0.9978 - val_loss: 0.4708 - val_accuracy: 0.9971\n"
     ]
    },
    {
     "data": {
      "text/plain": [
       "<keras.callbacks.History at 0x27e0fae3d90>"
      ]
     },
     "execution_count": 8,
     "metadata": {},
     "output_type": "execute_result"
    }
   ],
   "source": [
    "from keras.callbacks import ModelCheckpoint\n",
    "mc = ModelCheckpoint('weights{epoch:08d}.h5', \n",
    "                                     save_weights_only=True, save_freq=1000)\n",
    "model.fit_generator(batch_generator(file_train,2,2),epochs=5,steps_per_epoch=1000,validation_data=batch_generator(file_test,2,2),\n",
    "                    validation_steps=400,callbacks=[mc],shuffle=1)\n"
   ]
  },
  {
   "cell_type": "code",
   "execution_count": 9,
   "metadata": {
    "id": "oyPHgQIEEyfv"
   },
   "outputs": [],
   "source": [
    "file_test='./Dataset/img/lineA1.jpg'\n",
    "img=cv2.imread(f'{file_test}',0)\n",
    "img=pad_img(img)\n",
    "ret,img=cv2.threshold(img,150,255,cv2.THRESH_BINARY_INV)\n",
    "img=cv2.resize(img,(512,512))\n",
    "img=np.expand_dims(img,axis=-1)\n",
    "#img = np.stack((img,)*3, axis=-1)\n",
    "img=img/255"
   ]
  },
  {
   "cell_type": "code",
   "execution_count": 10,
   "metadata": {
    "colab": {
     "base_uri": "https://localhost:8080/",
     "height": 286
    },
    "id": "D9PJsdleU9oY",
    "outputId": "496e8c46-58d5-478b-d05c-ba49bc4b70df"
   },
   "outputs": [
    {
     "name": "stdout",
     "output_type": "stream",
     "text": [
      "1/1 [==============================] - 3s 3s/step\n"
     ]
    },
    {
     "data": {
      "text/plain": [
       "<matplotlib.image.AxesImage at 0x27e5b448490>"
      ]
     },
     "execution_count": 10,
     "metadata": {},
     "output_type": "execute_result"
    },
    {
     "data": {
      "image/png": "[encoded data removed]",
      "text/plain": [
       "<Figure size 432x288 with 1 Axes>"
      ]
     },
     "metadata": {
      "needs_background": "light"
     },
     "output_type": "display_data"
    }
   ],
   "source": [
    "img=np.expand_dims(img,axis=0)\n",
    "pred=model.predict(img)\n",
    "pred=np.squeeze(np.squeeze(pred,axis=0),axis=-1)\n",
    "plt.imshow(pred,cmap='gray')"
   ]
  },
  {
   "cell_type": "code",
   "execution_count": 11,
   "metadata": {
    "id": "QkfkUVPdbezF"
   },
   "outputs": [],
   "source": [
    "plt.imsave('test_img_mask.jpg',pred)"
   ]
  },
  {
   "cell_type": "code",
   "execution_count": 12,
   "metadata": {
    "id": "QJ8N-PZuY1si"
   },
   "outputs": [],
   "source": [
    "coordinates=[]"
   ]
  },
  {
   "cell_type": "code",
   "execution_count": 13,
   "metadata": {
    "colab": {
     "base_uri": "https://localhost:8080/"
    },
    "id": "V4KHhYQFbP8Q",
    "outputId": "37fe52d7-36b2-4453-d6d4-173ca0c65be0"
   },
   "outputs": [
    {
     "data": {
      "text/plain": [
       "True"
      ]
     },
     "execution_count": 13,
     "metadata": {},
     "output_type": "execute_result"
    }
   ],
   "source": [
    "import cv2\n",
    "img = cv2.imread('test_img_mask.jpg',0) \n",
    "cv2.threshold(img,0,255,cv2.THRESH_BINARY+cv2.THRESH_OTSU,img)\n",
    "ori_img=cv2.imread(f'{file_test}',0)\n",
    "ori_img=pad_img(ori_img)\n",
    "(H, W) = ori_img.shape[:2]\n",
    "(newW, newH) = (512, 512)\n",
    "rW = W / float(newW)\n",
    "rH = H / float(newH)\n",
    "ori_img_copy=np.stack((ori_img,)*3, axis=-1)\n",
    "\n",
    "contours, hier = cv2.findContours(img, cv2.RETR_EXTERNAL,cv2.CHAIN_APPROX_NONE)\n",
    "for c in contours:\n",
    "    # get the bounding rect\n",
    "    x, y, w, h = cv2.boundingRect(c)\n",
    "    # draw a white rectangle to visualize the bounding rect\n",
    "    cv2.rectangle(ori_img_copy, (int(x*rW), int(y*rH)), (int((x+w)*rW),int((y+h)*rH)), (255,0,0), 1)\n",
    "    #coordinates.append([x,y,(x+w),(y+h)])\n",
    "\n",
    "#cv2.drawContours(img, contours, -1, (255, 255, 0), 1)\n",
    "\n",
    "cv2.imwrite(\"output.png\",ori_img_copy)"
   ]
  },
  {
   "cell_type": "code",
   "execution_count": null,
   "metadata": {},
   "outputs": [],
   "source": []
  }
 ],
 "metadata": {
  "accelerator": "GPU",
  "colab": {
   "collapsed_sections": [],
   "name": "Word_Segmentation_UNet_.ipynb",
   "provenance": []
  },
  "kernelspec": {
   "display_name": "Python 3 (ipykernel)",
   "language": "python",
   "name": "python3"
  },
  "language_info": {
   "codemirror_mode": {
    "name": "ipython",
    "version": 3
   },
   "file_extension": ".py",
   "mimetype": "text/x-python",
   "name": "python",
   "nbconvert_exporter": "python",
   "pygments_lexer": "ipython3",
   "version": "3.9.12"
  }
 },
 "nbformat": 4,
 "nbformat_minor": 1
}
